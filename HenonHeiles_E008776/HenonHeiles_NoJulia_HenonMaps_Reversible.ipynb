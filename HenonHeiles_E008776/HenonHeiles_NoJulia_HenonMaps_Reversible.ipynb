{
 "cells": [
  {
   "cell_type": "markdown",
   "metadata": {},
   "source": [
    "## Henon Heiles: Reversible Polynomial Henon Maps\n",
    "### Cambia i nomi ai plt.savefig()"
   ]
  },
  {
   "cell_type": "code",
   "execution_count": 2,
   "metadata": {},
   "outputs": [],
   "source": [
    "import tensorflow as tf\n",
    "import matplotlib.pyplot as plt\n",
    "import numpy as np\n",
    "import math as mt\n",
    "from tensorflow import keras\n",
    "from tensorflow.keras import layers\n",
    "import time\n",
    "import wandb"
   ]
  },
  {
   "cell_type": "markdown",
   "metadata": {},
   "source": [
    "### Import Training Dataset"
   ]
  },
  {
   "cell_type": "code",
   "execution_count": 3,
   "metadata": {},
   "outputs": [
    {
     "ename": "FileNotFoundError",
     "evalue": "[Errno 2] No such file or directory: 'x_train_HH.txt'",
     "output_type": "error",
     "traceback": [
      "\u001b[1;31m---------------------------------------------------------------------------\u001b[0m",
      "\u001b[1;31mFileNotFoundError\u001b[0m                         Traceback (most recent call last)",
      "\u001b[1;32m<ipython-input-3-7dea6f11ca2f>\u001b[0m in \u001b[0;36m<module>\u001b[1;34m\u001b[0m\n\u001b[1;32m----> 1\u001b[1;33m \u001b[0mfile\u001b[0m \u001b[1;33m=\u001b[0m \u001b[0mopen\u001b[0m\u001b[1;33m(\u001b[0m\u001b[1;34m\"x_train_HH.txt\"\u001b[0m\u001b[1;33m,\u001b[0m \u001b[1;34m\"r\"\u001b[0m\u001b[1;33m)\u001b[0m\u001b[1;33m\u001b[0m\u001b[1;33m\u001b[0m\u001b[0m\n\u001b[0m\u001b[0;32m      2\u001b[0m \u001b[0mline_count\u001b[0m \u001b[1;33m=\u001b[0m \u001b[1;36m0\u001b[0m\u001b[1;33m\u001b[0m\u001b[1;33m\u001b[0m\u001b[0m\n\u001b[0;32m      3\u001b[0m \u001b[1;32mfor\u001b[0m \u001b[0mline\u001b[0m \u001b[1;32min\u001b[0m \u001b[0mfile\u001b[0m\u001b[1;33m:\u001b[0m\u001b[1;33m\u001b[0m\u001b[1;33m\u001b[0m\u001b[0m\n\u001b[0;32m      4\u001b[0m     \u001b[1;32mif\u001b[0m \u001b[0mline\u001b[0m \u001b[1;33m!=\u001b[0m \u001b[1;34m\"\\n\"\u001b[0m\u001b[1;33m:\u001b[0m\u001b[1;33m\u001b[0m\u001b[1;33m\u001b[0m\u001b[0m\n\u001b[0;32m      5\u001b[0m         \u001b[0mline_count\u001b[0m \u001b[1;33m+=\u001b[0m \u001b[1;36m1\u001b[0m\u001b[1;33m\u001b[0m\u001b[1;33m\u001b[0m\u001b[0m\n",
      "\u001b[1;31mFileNotFoundError\u001b[0m: [Errno 2] No such file or directory: 'x_train_HH.txt'"
     ]
    }
   ],
   "source": [
    "file = open(\"x_train_HH_E00833.txt\", \"r\")\n",
    "line_count = 0\n",
    "for line in file:\n",
    "    if line != \"\\n\":\n",
    "        line_count += 1\n",
    "file.close()\n",
    "\n",
    "Ty = []\n",
    "Tydot = []\n",
    "\n",
    "read_y = open(\"x_train_HH_E00833.txt\", \"r\")\n",
    "read_ydot = open(\"y_train_HH_E00833.txt\", \"r\")\n",
    "\n",
    "\n",
    "for i in range(line_count):\n",
    "    Ty.append(float(read_y.readline()))\n",
    "    Tydot.append(float(read_ydot.readline()))\n",
    "\n",
    "read_y.close()\n",
    "read_ydot.close()\n",
    "\n",
    "print(\"Number of points: \", len(Ty))"
   ]
  },
  {
   "cell_type": "code",
   "execution_count": 4,
   "metadata": {},
   "outputs": [
    {
     "ename": "NameError",
     "evalue": "name 'Ty' is not defined",
     "output_type": "error",
     "traceback": [
      "\u001b[1;31m---------------------------------------------------------------------------\u001b[0m",
      "\u001b[1;31mNameError\u001b[0m                                 Traceback (most recent call last)",
      "\u001b[1;32m<ipython-input-4-af87adb3afee>\u001b[0m in \u001b[0;36m<module>\u001b[1;34m\u001b[0m\n\u001b[0;32m      3\u001b[0m \u001b[0mplt\u001b[0m\u001b[1;33m.\u001b[0m\u001b[0mrc\u001b[0m\u001b[1;33m(\u001b[0m\u001b[1;34m'font'\u001b[0m\u001b[1;33m,\u001b[0m \u001b[0mfamily\u001b[0m\u001b[1;33m=\u001b[0m\u001b[1;34m'serif'\u001b[0m\u001b[1;33m)\u001b[0m\u001b[1;33m\u001b[0m\u001b[1;33m\u001b[0m\u001b[0m\n\u001b[0;32m      4\u001b[0m \u001b[0mplt\u001b[0m\u001b[1;33m.\u001b[0m\u001b[0mtitle\u001b[0m\u001b[1;33m(\u001b[0m\u001b[1;34mr'H\\'enon Heiles, x = 0'\u001b[0m\u001b[1;33m,\u001b[0m \u001b[0mfontsize\u001b[0m \u001b[1;33m=\u001b[0m \u001b[1;36m25\u001b[0m\u001b[1;33m)\u001b[0m\u001b[1;33m\u001b[0m\u001b[1;33m\u001b[0m\u001b[0m\n\u001b[1;32m----> 5\u001b[1;33m \u001b[0mplt\u001b[0m\u001b[1;33m.\u001b[0m\u001b[0mscatter\u001b[0m\u001b[1;33m(\u001b[0m\u001b[0mTy\u001b[0m\u001b[1;33m,\u001b[0m\u001b[0mTydot\u001b[0m\u001b[1;33m,\u001b[0m \u001b[0mcolor\u001b[0m \u001b[1;33m=\u001b[0m \u001b[1;34m\"b\"\u001b[0m\u001b[1;33m,\u001b[0m \u001b[0mlabel\u001b[0m \u001b[1;33m=\u001b[0m \u001b[1;34m\"target\"\u001b[0m\u001b[1;33m,\u001b[0m \u001b[0mlinewidth\u001b[0m \u001b[1;33m=\u001b[0m \u001b[1;36m1\u001b[0m\u001b[1;33m,\u001b[0m \u001b[0ms\u001b[0m\u001b[1;33m=\u001b[0m\u001b[1;36m2\u001b[0m\u001b[1;33m)\u001b[0m\u001b[1;33m\u001b[0m\u001b[1;33m\u001b[0m\u001b[0m\n\u001b[0m\u001b[0;32m      6\u001b[0m \u001b[0mplt\u001b[0m\u001b[1;33m.\u001b[0m\u001b[0mxlabel\u001b[0m\u001b[1;33m(\u001b[0m\u001b[1;34mr'$y$'\u001b[0m\u001b[1;33m,\u001b[0m \u001b[0mfontsize\u001b[0m\u001b[1;33m=\u001b[0m\u001b[1;36m28\u001b[0m\u001b[1;33m,\u001b[0m \u001b[0mlabelpad\u001b[0m\u001b[1;33m=\u001b[0m\u001b[1;36m8\u001b[0m\u001b[1;33m)\u001b[0m\u001b[1;33m\u001b[0m\u001b[1;33m\u001b[0m\u001b[0m\n\u001b[0;32m      7\u001b[0m \u001b[0mplt\u001b[0m\u001b[1;33m.\u001b[0m\u001b[0mylabel\u001b[0m\u001b[1;33m(\u001b[0m\u001b[1;34mr'$p_{y}$'\u001b[0m\u001b[1;33m,\u001b[0m \u001b[0mfontsize\u001b[0m\u001b[1;33m=\u001b[0m\u001b[1;36m28\u001b[0m\u001b[1;33m,\u001b[0m \u001b[0mlabelpad\u001b[0m\u001b[1;33m=\u001b[0m\u001b[1;36m15\u001b[0m\u001b[1;33m)\u001b[0m\u001b[1;33m\u001b[0m\u001b[1;33m\u001b[0m\u001b[0m\n",
      "\u001b[1;31mNameError\u001b[0m: name 'Ty' is not defined"
     ]
    },
    {
     "data": {
      "image/png": "[encoded data removed]",
      "text/plain": [
       "<Figure size 720x720 with 1 Axes>"
      ]
     },
     "metadata": {
      "needs_background": "light"
     },
     "output_type": "display_data"
    }
   ],
   "source": [
    "plt.figure(figsize=(10,10))\n",
    "plt.rc('text', usetex=True)\n",
    "plt.rc('font', family='serif')\n",
    "plt.title(r'H\\'enon Heiles, x = 0', fontsize = 25)\n",
    "plt.scatter(Ty,Tydot, color = 'b', label = 'target', linewidth = 1, s=2)\n",
    "plt.xlabel(r'$y$', fontsize=28, labelpad=8)\n",
    "plt.ylabel(r'$p_{y}$', fontsize=28, labelpad=15)\n",
    "plt.grid(axis='both', alpha=.3)\n",
    "plt.legend(fontsize = 15, loc = 'upper right')\n",
    "plt.show()"
   ]
  },
  {
   "cell_type": "markdown",
   "metadata": {},
   "source": [
    "### Training Dataset"
   ]
  },
  {
   "cell_type": "code",
   "execution_count": 56,
   "metadata": {},
   "outputs": [],
   "source": [
    "X_train = [np.array([Ty[i],Tydot[i]]) for i in range(len(Ty)-1)]\n",
    "Y_train = [np.array([Ty[i],Tydot[i]]) for i in range(1,len(Ty))]"
   ]
  },
  {
   "cell_type": "code",
   "execution_count": 57,
   "metadata": {},
   "outputs": [
    {
     "data": {
      "text/plain": [
       "(TensorSpec(shape=(None, 2), dtype=tf.float32, name=None),\n",
       " TensorSpec(shape=(None, 2), dtype=tf.float32, name=None))"
      ]
     },
     "execution_count": 57,
     "metadata": {},
     "output_type": "execute_result"
    }
   ],
   "source": [
    "# TRAINING SET\n",
    "\n",
    "x_train = np.array(X_train)\n",
    "x_train = x_train.astype(np.float32)\n",
    "\n",
    "y_train = np.array(Y_train)\n",
    "y_train = y_train.astype(np.float32)\n",
    "\n",
    "train_dataset = tf.data.Dataset.from_tensor_slices((x_train, y_train))\n",
    "\n",
    "train_dataset = train_dataset.batch(10000)\n",
    "\n",
    "train_dataset.element_spec"
   ]
  },
  {
   "cell_type": "markdown",
   "metadata": {},
   "source": [
    "-----------------------------------------\n",
    "-----------------------------------------\n",
    "-----------------------------------------"
   ]
  },
  {
   "cell_type": "markdown",
   "metadata": {},
   "source": [
    "### Custom layer"
   ]
  },
  {
   "cell_type": "code",
   "execution_count": 5,
   "metadata": {},
   "outputs": [],
   "source": [
    "class H(layers.Layer):\n",
    "    \n",
    "    def __init__(self):\n",
    "        \n",
    "        super().__init__()\n",
    "        self.w = self.add_weight(\n",
    "        name='w',\n",
    "        shape=(5,),\n",
    "        initializer = tf.keras.initializers.RandomNormal(mean=0.0, stddev=0.01, seed=None),\n",
    "        trainable = True\n",
    "        )\n",
    "\n",
    "    def call(self, x, inverse):\n",
    "        \n",
    "        if inverse == 0:\n",
    "        \n",
    "            L0 = tf.concat([[[1., 0.],[0., 0.]]], 0)\n",
    "            L10 = tf.concat([[[0., 0.],[0., -1]]], 0)\n",
    "\n",
    "            L1 = tf.concat([[[0., 0.],[0., self.w[0]]]], 0)\n",
    "            L2 = tf.concat([[[0., 0.],[0., self.w[1]]]], 0)\n",
    "            L3 = tf.concat([[[0., 0.],[0., self.w[2]]]], 0)\n",
    "            L4 = tf.concat([[[0., 0.],[0., self.w[3]]]], 0)\n",
    "            #L5 = tf.concat([[[0., 0.],[0., self.w[4]]]], 0)\n",
    "\n",
    "\n",
    "            x̄ = tf.reverse(x, [1])\n",
    "            b = tf.constant([[0., 1.]])\n",
    "\n",
    "            return tf.linalg.matvec(L0, x̄) + tf.linalg.matvec(L10, x̄) + tf.linalg.matvec(L1, b) + tf.linalg.matvec(L2, x) + tf.linalg.matvec(L3, x)*x + tf.linalg.matvec(L4, x)*x*x #+ tf.linalg.matvec(L5, x)*x*x*x\n",
    "        \n",
    "        else:\n",
    "            \n",
    "            L0 = tf.concat([[[0., 0.],[0., 1.]]], 0)\n",
    "            L10 = tf.concat([[[-1., 0.],[0., 0.]]], 0)\n",
    "\n",
    "            L1 = tf.concat([[[self.w[0], 0.],[0., 0.]]], 0)\n",
    "            L2 = tf.concat([[[self.w[1], 0.],[0., 0.]]], 0)\n",
    "            L3 = tf.concat([[[self.w[2], 0.],[0., 0.]]], 0)\n",
    "            L4 = tf.concat([[[self.w[3], 0.],[0., 0.]]], 0)\n",
    "            #L5 = tf.concat([[[self.w[4], 0.],[0., 0.]]], 0)\n",
    "            \n",
    "            \n",
    "            x̄ = tf.reverse(x, [1])\n",
    "            b = tf.constant([[1., 0.]])\n",
    "            \n",
    "            return tf.linalg.matvec(L0, x̄) + tf.linalg.matvec(L10, x̄) + tf.linalg.matvec(L1, b) + tf.linalg.matvec(L2, x) + tf.linalg.matvec(L3, x)*x + tf.linalg.matvec(L4, x)*x*x #+ tf.linalg.matvec(L5, x)*x*x*x"
   ]
  },
  {
   "cell_type": "markdown",
   "metadata": {},
   "source": [
    "### Model"
   ]
  },
  {
   "cell_type": "code",
   "execution_count": 6,
   "metadata": {},
   "outputs": [],
   "source": [
    "class Henon(keras.Model):\n",
    "    \n",
    "    def __init__(self, N):\n",
    "        \n",
    "        super().__init__()\n",
    "        \n",
    "        self.Hs = []\n",
    "        for i in range(N):\n",
    "            self.Hs.append(H())\n",
    "\n",
    "\n",
    "    def call(self, input_tensor):\n",
    "    \n",
    "        boom = input_tensor\n",
    "        for i in range(len(self.Hs)):\n",
    "            boom = self.Hs[i](boom, 0)\n",
    "            \n",
    "        boom = boom*tf.constant([1., -1.])\n",
    "        \n",
    "        for i in range(1, len(self.Hs)):\n",
    "            boom = self.Hs[-i](boom, 1)\n",
    "\n",
    "        boom = self.Hs[0](boom, 1)*tf.constant([1., -1.])\n",
    "        \n",
    "        return boom"
   ]
  },
  {
   "cell_type": "code",
   "execution_count": 7,
   "metadata": {},
   "outputs": [],
   "source": [
    "model = Henon(8)"
   ]
  },
  {
   "cell_type": "markdown",
   "metadata": {},
   "source": [
    "## Training"
   ]
  },
  {
   "cell_type": "code",
   "execution_count": 61,
   "metadata": {},
   "outputs": [],
   "source": [
    "# DECAYING LEARNING RATE\n",
    "\n",
    "def scheduler(epoch, lr):\n",
    "    if epoch < 5:\n",
    "        return lr\n",
    "    else:\n",
    "        return lr*tf.math.exp(-0.002)\n",
    "    \n",
    "callback = tf.keras.callbacks.LearningRateScheduler(scheduler)"
   ]
  },
  {
   "cell_type": "code",
   "execution_count": 62,
   "metadata": {},
   "outputs": [],
   "source": [
    "model.compile(\n",
    "    loss= tf.keras.losses.MeanSquaredError(),\n",
    "    #optimizer=tfps.optimizers.bfgs_minimize(), #clipvalue = 0.001),\n",
    "    #optimizer=keras.optimizers.SGD(0.00001), #, clipvalue = 0.001),\n",
    "    optimizer=keras.optimizers.Adam(0.001), #, clipvalue = 0.001),\n",
    "    metrics=[\"accuracy\"],\n",
    ")"
   ]
  },
  {
   "cell_type": "code",
   "execution_count": 63,
   "metadata": {},
   "outputs": [
    {
     "name": "stdout",
     "output_type": "stream",
     "text": [
      "Epoch 1/10\n",
      "147/147 [==============================] - 5s 35ms/step - loss: 0.2067 - accuracy: 0.4667\n",
      "Epoch 2/10\n",
      "147/147 [==============================] - 6s 39ms/step - loss: 0.1438 - accuracy: 0.6459\n",
      "Epoch 3/10\n",
      "147/147 [==============================] - 17s 118ms/step - loss: 1228722432.0000 - accuracy: 0.6982\n",
      "Epoch 4/10\n",
      "147/147 [==============================] - 6s 41ms/step - loss: 0.1644 - accuracy: 0.7391\n",
      "Epoch 5/10\n",
      "147/147 [==============================] - 6s 38ms/step - loss: 0.1681 - accuracy: 0.7379\n",
      "Epoch 6/10\n",
      "147/147 [==============================] - 5s 37ms/step - loss: 0.1681 - accuracy: 0.7379\n",
      "Epoch 7/10\n",
      "147/147 [==============================] - 5s 37ms/step - loss: 0.1681 - accuracy: 0.7379\n",
      "Epoch 8/10\n",
      "147/147 [==============================] - 5s 37ms/step - loss: 0.1681 - accuracy: 0.7379\n",
      "Epoch 9/10\n",
      "147/147 [==============================] - 5s 37ms/step - loss: 0.1681 - accuracy: 0.7379\n",
      "Epoch 10/10\n",
      "147/147 [==============================] - 5s 36ms/step - loss: 0.1681 - accuracy: 0.7379\n",
      "running time : 73.98220586776733 seconds\n"
     ]
    }
   ],
   "source": [
    "#wandb.init()\n",
    "start_time = time.time()\n",
    "history = model.fit(train_dataset, epochs = 10, callbacks=[callback], verbose=1)\n",
    "print(\"running time : %s seconds\" % (time.time() - start_time))"
   ]
  },
  {
   "cell_type": "code",
   "execution_count": 45,
   "metadata": {},
   "outputs": [
    {
     "data": {
      "image/png": "[encoded data removed]",
      "text/plain": [
       "<Figure size 720x360 with 1 Axes>"
      ]
     },
     "metadata": {
      "needs_background": "light"
     },
     "output_type": "display_data"
    }
   ],
   "source": [
    "plt.figure(figsize = (10,5))\n",
    "plt.plot(history.history[\"loss\"])\n",
    "plt.rc('text', usetex=True)\n",
    "plt.rc('font', family='serif')\n",
    "plt.title(r'Reversible Composition of H\\'enon Maps', fontsize = 30)\n",
    "plt.xlabel(r'epochs', fontsize=20)\n",
    "plt.ylabel(r'loss', fontsize=20)\n",
    "plt.yscale(\"log\")\n",
    "plt.xticks(fontsize=20)\n",
    "plt.yticks(fontsize=20)\n",
    "plt.grid(axis='both', alpha=.3)\n",
    "plt.savefig(\"loss_Henon_E01667\")"
   ]
  },
  {
   "cell_type": "markdown",
   "metadata": {},
   "source": [
    "# Tests"
   ]
  },
  {
   "cell_type": "code",
   "execution_count": 137,
   "metadata": {},
   "outputs": [
    {
     "data": {
      "image/png": "[encoded data removed]",
      "text/plain": [
       "<Figure size 432x288 with 1 Axes>"
      ]
     },
     "metadata": {
      "needs_background": "light"
     },
     "output_type": "display_data"
    }
   ],
   "source": [
    "plt.figure(figsize=(10,10))\n",
    "plt.rc('text', usetex=True)\n",
    "plt.rc('font', family='serif')\n",
    "plt.title(r'Reversible Composition of H\\'enon Maps', fontsize = 30)\n",
    "\n",
    "x = model(tf.constant([[Ty[0], Tydot[0]]]))\n",
    "xx = [x[0][0].numpy()]\n",
    "yy = [x[0][1].numpy()]\n",
    "\n",
    "\n",
    "for i in range(19):\n",
    "    x = model(x)\n",
    "    xx.append(x[0][0].numpy())\n",
    "    yy.append(x[0][1].numpy())\n",
    "\n",
    "plt.plot(xx, yy, color='r')\n",
    "\n",
    "plt.scatter(xx[-1], yy[-1], label=r'$\\mathcal{T}^{20}(x,y)$', marker = 'o', color='r', s=35)\n",
    "plt.scatter(xx[-1], -yy[-1], label=r'$R\\mathcal{T}^{20}(x,y)$', marker = 'o', color='b', s=35)\n",
    "\n",
    "\n",
    "x = model(tf.constant([[xx[-1], -yy[-1]]]))\n",
    "xx = [xx[-1]]\n",
    "yy = [-yy[-1]]\n",
    "xx.append(x[0][0].numpy())\n",
    "yy.append(x[0][1].numpy())\n",
    "\n",
    "for i in range(19):\n",
    "    x = model(x)\n",
    "    xx.append(x[0][0].numpy())\n",
    "    yy.append(x[0][1].numpy())\n",
    "\n",
    "plt.plot(xx,yy, color='b')\n",
    "plt.xlabel(r'$y$', fontsize=28, labelpad=8)\n",
    "plt.ylabel(r'$p_{y}$', fontsize=28, labelpad=15)\n",
    "plt.xticks(fontsize=20)\n",
    "plt.yticks(fontsize=20)\n",
    "plt.grid(axis='both', alpha=.3)\n",
    "plt.legend(fontsize = 25, loc = 'upper right')\n",
    "#plt.savefig(\"reversible_E0125\")\n",
    "plt.show()"
   ]
  },
  {
   "cell_type": "code",
   "execution_count": null,
   "metadata": {},
   "outputs": [],
   "source": [
    "test = model(x_train)"
   ]
  },
  {
   "cell_type": "code",
   "execution_count": null,
   "metadata": {},
   "outputs": [],
   "source": [
    "plt.figure(figsize=(10,10))\n",
    "plt.rc('text', usetex=True)\n",
    "plt.rc('font', family='serif')\n",
    "plt.title(r'Composition of H\\'enon Maps', fontsize = 30)\n",
    "plt.scatter(Ty,Tydot, color = \"b\", label = r'target, $x$', linewidth = 1, s=2)\n",
    "plt.scatter([test[i][0].numpy() for i in range(len(x_train))], [test[i][1].numpy() for i in range(len(x_train))], color = \"r\", label = r'$\\mathcal{T}^{2}(x)$, learned', linewidth = 1, s=2)\n",
    "plt.xlabel(r'$y$', fontsize=28, labelpad=8)\n",
    "plt.ylabel(r'$p_{y}$', fontsize=28, labelpad=15)\n",
    "plt.xticks(fontsize=20)\n",
    "plt.yticks(fontsize=20)\n",
    "plt.grid(axis='both', alpha=.3)\n",
    "plt.legend(fontsize = 25, loc = 'lower right')\n",
    "plt.savefig(\"Iterations_Henon_E0125\")\n",
    "plt.show()"
   ]
  }
 ],
 "metadata": {
  "kernelspec": {
   "display_name": "Python 3",
   "language": "python",
   "name": "python3"
  },
  "language_info": {
   "codemirror_mode": {
    "name": "ipython",
    "version": 3
   },
   "file_extension": ".py",
   "mimetype": "text/x-python",
   "name": "python",
   "nbconvert_exporter": "python",
   "pygments_lexer": "ipython3",
   "version": "3.7.4"
  }
 },
 "nbformat": 4,
 "nbformat_minor": 4
}
