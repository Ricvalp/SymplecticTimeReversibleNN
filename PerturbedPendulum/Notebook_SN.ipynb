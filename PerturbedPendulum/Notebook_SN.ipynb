{
 "cells": [
  {
   "cell_type": "code",
   "execution_count": 26,
   "id": "9f5c561e-4a12-4367-b713-4bd575bbfd28",
   "metadata": {},
   "outputs": [],
   "source": [
    "import tensorflow as tf\n",
    "import matplotlib.pyplot as plt\n",
    "import numpy as np\n",
    "import os\n",
    "import sys\n",
    "import random as rd\n",
    "\n",
    "sys.path.append(\"..\")\n",
    "\n",
    "from AllMethods import ReversibleSymplecticNN as rs\n",
    "from AllMethods import PerturbedPendulum_Methods as pp"
   ]
  },
  {
   "cell_type": "code",
   "execution_count": 27,
   "id": "3ae00510-290c-4cee-b72f-d65c3c20257f",
   "metadata": {},
   "outputs": [],
   "source": [
    "gpu_options = tf.compat.v1.GPUOptions(per_process_gpu_memory_fraction=0.3)\n",
    "sess = tf.compat.v1.Session(config=tf.compat.v1.ConfigProto(gpu_options=gpu_options))"
   ]
  },
  {
   "cell_type": "code",
   "execution_count": 28,
   "id": "3de1a601-5f05-4609-ae20-189f0d89c45e",
   "metadata": {},
   "outputs": [],
   "source": [
    "x, y = pp.read_dataset('x_train.txt', 'y_train.txt')\n",
    "train_dataset, val_dataset = pp.train_dataset(x, y, 20, 180, 20) #val_len, train_batch, val_batch"
   ]
  },
  {
   "cell_type": "code",
   "execution_count": 29,
   "id": "f2a8adbb-6df8-4551-9b3e-679e84b1657a",
   "metadata": {},
   "outputs": [],
   "source": [
    "model1N2 = rs.SympNet(30, 8, 'non_reversible')"
   ]
  },
  {
   "cell_type": "code",
   "execution_count": 30,
   "id": "e00fda76-0975-4e37-8897-cca454ab98b2",
   "metadata": {},
   "outputs": [],
   "source": [
    "# DECAYING LEARNING RATE\n",
    "def scheduler(epoch, lr):\n",
    "    if epoch%100==0:\n",
    "        print(\"epoch: \", epoch)\n",
    "    if epoch < 5:\n",
    "        return lr\n",
    "    else:\n",
    "        return lr*tf.math.exp(-0.0007)\n",
    "    \n",
    "callback = tf.keras.callbacks.LearningRateScheduler(scheduler)"
   ]
  },
  {
   "cell_type": "code",
   "execution_count": 31,
   "id": "01fcafc2-e947-4c4a-8f0c-153376e1cbac",
   "metadata": {},
   "outputs": [],
   "source": [
    "checkpoint_path_1N2 = \"checkpoints_SN_PP_1N2_008/cp.ckpt\"\n",
    "checkpoint_dir_1N2 = os.path.dirname(checkpoint_path_1N2)"
   ]
  },
  {
   "cell_type": "code",
   "execution_count": 32,
   "id": "c4351ace-1d9c-4451-b3c2-a141006dfc3e",
   "metadata": {},
   "outputs": [],
   "source": [
    "cp_callback_1N2 = tf.keras.callbacks.ModelCheckpoint(filepath=checkpoint_path_1N2,\n",
    "                                                 save_weights_only=True,\n",
    "                                                 save_best_only=True,\n",
    "                                                 verbose=0)"
   ]
  },
  {
   "cell_type": "code",
   "execution_count": 33,
   "id": "de8caf04-74d1-4dbf-b91c-77a511dc169a",
   "metadata": {},
   "outputs": [],
   "source": [
    "model1N2.compile(\n",
    "    loss= tf.keras.losses.MeanSquaredError(),\n",
    "    optimizer=tf.keras.optimizers.Adam(0.01),\n",
    "    metrics=[\"accuracy\"],\n",
    ")"
   ]
  },
  {
   "cell_type": "code",
   "execution_count": null,
   "id": "a91e6571-9704-4be4-8c84-3f5a3d058055",
   "metadata": {},
   "outputs": [
    {
     "name": "stdout",
     "output_type": "stream",
     "text": [
      "epoch:  0\n",
      "epoch:  100\n",
      "epoch:  200\n",
      "epoch:  300\n",
      "epoch:  400\n",
      "epoch:  500\n",
      "epoch:  600\n",
      "epoch:  700\n",
      "epoch:  800\n",
      "epoch:  900\n",
      "epoch:  1000\n",
      "epoch:  1100\n",
      "epoch:  1200\n",
      "epoch:  1300\n",
      "epoch:  1400\n",
      "epoch:  1500\n",
      "epoch:  1600\n",
      "epoch:  1700\n",
      "epoch:  1800\n",
      "epoch:  1900\n",
      "epoch:  2000\n",
      "epoch:  2100\n",
      "epoch:  2200\n",
      "epoch:  2300\n",
      "epoch:  2400\n",
      "epoch:  2500\n",
      "epoch:  2600\n",
      "epoch:  2700\n"
     ]
    }
   ],
   "source": [
    "Epochs = 3000\n",
    "\n",
    "history1N2 = model1N2.fit(train_dataset, epochs = Epochs, validation_data=val_dataset, callbacks=[callback, cp_callback_1N2], verbose=0)"
   ]
  },
  {
   "cell_type": "code",
   "execution_count": null,
   "id": "d1f00b26-d3b3-41d0-816d-9b07f359dd39",
   "metadata": {},
   "outputs": [],
   "source": [
    "plt.plot(history1N2.history[\"loss\"], label=\"Training loss\")\n",
    "plt.plot(history1N2.history[\"val_loss\"], label=\"Validation loss\")\n",
    "plt.yscale(\"log\")\n",
    "plt.legend(fontsize=17)\n",
    "plt.show()"
   ]
  },
  {
   "cell_type": "code",
   "execution_count": null,
   "id": "71225fba-0d98-47b5-9c53-6e2de189528e",
   "metadata": {},
   "outputs": [],
   "source": [
    "N = 300\n",
    "x0 = np.array([[rd.randrange(-400, 400, 1)*0.001, rd.randrange(-400, 400, 1)*0.001] for _ in range(N)])\n",
    "iterations = [model1N2(x0)]\n",
    "for _ in range(200):\n",
    "    iterations.append(model1N2(iterations[-1]))\n",
    "    \n",
    "plt.figure(figsize=(10,10))\n",
    "colors = []\n",
    "sizes = []\n",
    "for i in range(N):\n",
    "    if i==18:\n",
    "        colors.append(\"r\")\n",
    "        sizes.append(10)\n",
    "    else:\n",
    "        colors.append(\"b\")\n",
    "        sizes.append(1)\n",
    "\n",
    "plt.scatter(*zip(*iterations[0].numpy()), s=1, linewidth=0, color=\"b\", label = \"Iterations\")\n",
    "\n",
    "for i in iterations:\n",
    "    plt.scatter(*zip(*i.numpy()), s=1, linewidth=0, color=\"b\")\n",
    "    \n",
    "plt.scatter(*zip(*x0), s=10, linewidth=0, color=\"r\", label = \"Starting points\")\n",
    "\n",
    "\n",
    "plt.xlabel(\"q\", fontsize=28, labelpad=8)\n",
    "plt.ylabel(\"p\", fontsize=28, labelpad=15)\n",
    "plt.xticks(fontsize=20)\n",
    "plt.yticks(fontsize=20)\n",
    "plt.grid(axis='both', alpha=.3)\n",
    "lgnd = plt.legend(loc=\"upper right\", numpoints=1, fontsize=20)\n",
    "lgnd.legendHandles[0]._sizes = [15]\n",
    "lgnd.legendHandles[1]._sizes = [30]\n",
    "plt.show()"
   ]
  }
 ],
 "metadata": {
  "kernelspec": {
   "display_name": "Python 3",
   "language": "python",
   "name": "python3"
  },
  "language_info": {
   "codemirror_mode": {
    "name": "ipython",
    "version": 3
   },
   "file_extension": ".py",
   "mimetype": "text/x-python",
   "name": "python",
   "nbconvert_exporter": "python",
   "pygments_lexer": "ipython3",
   "version": "3.8.12"
  }
 },
 "nbformat": 4,
 "nbformat_minor": 5
}
