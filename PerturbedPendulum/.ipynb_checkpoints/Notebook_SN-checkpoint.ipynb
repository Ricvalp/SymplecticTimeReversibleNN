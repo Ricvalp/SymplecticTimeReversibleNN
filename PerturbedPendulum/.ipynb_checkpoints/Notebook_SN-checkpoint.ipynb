{
 "cells": [
  {
   "cell_type": "code",
   "execution_count": 1,
   "id": "3a178872-6a70-4684-9e18-23ec80a0daeb",
   "metadata": {},
   "outputs": [],
   "source": [
    "import tensorflow as tf\n",
    "import matplotlib.pyplot as plt\n",
    "import numpy as np\n",
    "import os\n",
    "import sys\n",
    "import random as rd\n",
    "\n",
    "sys.path.append(\"..\")\n",
    "\n",
    "from AllMethods import ReversibleSymplecticNN as rs\n",
    "from AllMethods import HenonHeiles_Methods as hh\n",
    "\n",
    "gpu_options = tf.compat.v1.GPUOptions(per_process_gpu_memory_fraction=0.3)\n",
    "sess = tf.compat.v1.Session(config=tf.compat.v1.ConfigProto(gpu_options=gpu_options))"
   ]
  },
  {
   "cell_type": "code",
   "execution_count": 2,
   "id": "3de1a601-5f05-4609-ae20-189f0d89c45e",
   "metadata": {},
   "outputs": [
    {
     "name": "stdout",
     "output_type": "stream",
     "text": [
      "Number of points:  765\n"
     ]
    }
   ],
   "source": [
    "Ename = \"01\"\n",
    "\n",
    "x, y = hh.read_dataset('x_train_'+ Ename +'.txt', 'y_train_'+ Ename +'.txt')\n",
    "\n",
    "train_dataset, val_dataset = hh.train_dataset(x[:300], y[:300], 30, 270, 30) # val_len, train_batch, val_batch"
   ]
  },
  {
   "cell_type": "code",
   "execution_count": 3,
   "id": "f2a8adbb-6df8-4551-9b3e-679e84b1657a",
   "metadata": {},
   "outputs": [],
   "source": [
    "model1N2 = rs.SympNet(30, 8, 'non_reversible')"
   ]
  },
  {
   "cell_type": "code",
   "execution_count": 4,
   "id": "e00fda76-0975-4e37-8897-cca454ab98b2",
   "metadata": {},
   "outputs": [],
   "source": [
    "# DECAYING LEARNING RATE\n",
    "def scheduler(epoch, lr):\n",
    "    if epoch%100==0:\n",
    "        print(\"epoch: \", epoch)\n",
    "    if epoch < 5:\n",
    "        return lr\n",
    "    else:\n",
    "        return lr*tf.math.exp(-0.0007)\n",
    "    \n",
    "callback = tf.keras.callbacks.LearningRateScheduler(scheduler)"
   ]
  },
  {
   "cell_type": "code",
   "execution_count": 5,
   "id": "01fcafc2-e947-4c4a-8f0c-153376e1cbac",
   "metadata": {},
   "outputs": [],
   "source": [
    "checkpoint_path_1N2 = \"checkpoints_SN_PP_1N2_008/cp.ckpt\"\n",
    "checkpoint_dir_1N2 = os.path.dirname(checkpoint_path_1N2)"
   ]
  },
  {
   "cell_type": "code",
   "execution_count": 6,
   "id": "c4351ace-1d9c-4451-b3c2-a141006dfc3e",
   "metadata": {},
   "outputs": [],
   "source": [
    "cp_callback_1N2 = tf.keras.callbacks.ModelCheckpoint(filepath=checkpoint_path_1N2,\n",
    "                                                 save_weights_only=True,\n",
    "                                                 save_best_only=True,\n",
    "                                                 verbose=0)"
   ]
  },
  {
   "cell_type": "code",
   "execution_count": 7,
   "id": "de8caf04-74d1-4dbf-b91c-77a511dc169a",
   "metadata": {},
   "outputs": [],
   "source": [
    "model1N2.compile(\n",
    "    loss= tf.keras.losses.MeanSquaredError(),\n",
    "    optimizer=tf.keras.optimizers.Adam(0.01),\n",
    "    metrics=[\"accuracy\"],\n",
    ")"
   ]
  },
  {
   "cell_type": "code",
   "execution_count": null,
   "id": "a91e6571-9704-4be4-8c84-3f5a3d058055",
   "metadata": {},
   "outputs": [
    {
     "name": "stdout",
     "output_type": "stream",
     "text": [
      "epoch:  0\n",
      "epoch:  100\n",
      "epoch:  200\n",
      "epoch:  300\n",
      "epoch:  400\n",
      "epoch:  500\n",
      "epoch:  600\n",
      "epoch:  700\n",
      "epoch:  800\n",
      "epoch:  900\n",
      "epoch:  1000\n",
      "epoch:  1100\n",
      "epoch:  1200\n",
      "epoch:  1300\n",
      "epoch:  1400\n",
      "epoch:  1500\n",
      "epoch:  1600\n",
      "epoch:  1700\n",
      "epoch:  1800\n",
      "epoch:  1900\n",
      "epoch:  2000\n",
      "epoch:  2100\n",
      "epoch:  2200\n",
      "epoch:  2300\n",
      "epoch:  2400\n",
      "epoch:  2500\n"
     ]
    }
   ],
   "source": [
    "Epochs = 3000\n",
    "\n",
    "history1N2 = model1N2.fit(train_dataset, epochs = Epochs, validation_data=val_dataset, callbacks=[callback, cp_callback_1N2], verbose=0)"
   ]
  },
  {
   "cell_type": "code",
   "execution_count": null,
   "id": "e9149a7a-e96a-41f4-b95e-9325f9fd4cf0",
   "metadata": {},
   "outputs": [],
   "source": []
  }
 ],
 "metadata": {
  "kernelspec": {
   "display_name": "Python 3",
   "language": "python",
   "name": "python3"
  },
  "language_info": {
   "codemirror_mode": {
    "name": "ipython",
    "version": 3
   },
   "file_extension": ".py",
   "mimetype": "text/x-python",
   "name": "python",
   "nbconvert_exporter": "python",
   "pygments_lexer": "ipython3",
   "version": "3.8.12"
  }
 },
 "nbformat": 4,
 "nbformat_minor": 5
}
