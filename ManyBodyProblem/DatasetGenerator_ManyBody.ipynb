{
 "cells": [
  {
   "cell_type": "code",
   "execution_count": 10,
   "metadata": {},
   "outputs": [
    {
     "name": "stdout",
     "output_type": "stream",
     "text": [
      "The julia.magic extension is already loaded. To reload it, use:\n",
      "  %reload_ext julia.magic\n"
     ]
    }
   ],
   "source": [
    "import tensorflow as tf\n",
    "import matplotlib.pyplot as plt\n",
    "import numpy as np\n",
    "import math as mt\n",
    "from tensorflow import keras\n",
    "from tensorflow.keras import layers\n",
    "import time\n",
    "import wandb\n",
    "import julia\n",
    "import os\n",
    "from julia import DynamicalSystems\n",
    "from julia import Base\n",
    "from julia import Main\n",
    "from julia import DifferentialEquations\n",
    "from julia import NBodySimulator\n",
    "from julia import StaticArrays\n",
    "from julia import Plots\n",
    "from matplotlib import rc\n",
    "from mpl_toolkits import mplot3d\n",
    "\n",
    "%load_ext julia.magic\n",
    "\n",
    "physical_devices = tf.config.list_physical_devices(\"GPU\")\n",
    "tf.config.experimental.set_memory_growth(physical_devices[0], True)"
   ]
  },
  {
   "cell_type": "code",
   "execution_count": 148,
   "metadata": {},
   "outputs": [],
   "source": [
    "%julia body1 = NBodySimulator.MassBody(StaticArrays.SVector(0., 0., 0.), StaticArrays.SVector(0., -0.001, 0.), 3000.0); body2 = NBodySimulator.MassBody(StaticArrays.SVector(0.2, 0., 0.), StaticArrays.SVector(0., 0.01, 0.), 300.0);"
   ]
  },
  {
   "cell_type": "code",
   "execution_count": 157,
   "metadata": {},
   "outputs": [
    {
     "name": "stdout",
     "output_type": "stream",
     "text": [
      "running time : 3.468721628189087 seconds\n"
     ]
    }
   ],
   "source": [
    "start_time = time.time()\n",
    "\n",
    "%julia const G = 6.67e-8;\n",
    "%julia system = NBodySimulator.GravitationalSystem([body1, body2], G)\n",
    "%julia tspan = (0.0, 80000.0)\n",
    "%julia simulation = NBodySimulator.NBodySimulation(system, tspan)\n",
    "%julia sim_result = NBodySimulator.run_simulation(simulation, DifferentialEquations.Tsit5(), saveat= 3., abstol=1e-10, reltol=1e-10)\n",
    "%julia sol = sim_result.solution.u\n",
    "u = Main.sol\n",
    "\n",
    "print(\"running time : %s seconds\" % (time.time() - start_time))"
   ]
  },
  {
   "cell_type": "code",
   "execution_count": 158,
   "metadata": {},
   "outputs": [
    {
     "data": {
      "text/plain": [
       "<matplotlib.collections.PathCollection at 0x218ab2b4d88>"
      ]
     },
     "execution_count": 158,
     "metadata": {},
     "output_type": "execute_result"
    },
    {
     "data": {
      "image/png": "[encoded data removed]",
      "text/plain": [
       "<Figure size 432x288 with 1 Axes>"
      ]
     },
     "metadata": {
      "needs_background": "light"
     },
     "output_type": "display_data"
    }
   ],
   "source": [
    "x1 = [i[0][0] for i in u]\n",
    "x2 = [i[0][1] for i in u]\n",
    "\n",
    "y1 = [i[1][0] for i in u]\n",
    "y2 = [i[1][1] for i in u]\n",
    "\n",
    "px1 = [i[0][2] for i in u]\n",
    "px2 = [i[0][3] for i in u]\n",
    "\n",
    "py1 = [i[1][2] for i in u]\n",
    "py2 = [i[1][3] for i in u]\n",
    "\n",
    "plt.scatter(x2, y2, s=1)\n",
    "plt.scatter(x1, y1, s=1)"
   ]
  },
  {
   "cell_type": "code",
   "execution_count": 159,
   "metadata": {},
   "outputs": [
    {
     "data": {
      "text/plain": [
       "24705"
      ]
     },
     "execution_count": 159,
     "metadata": {},
     "output_type": "execute_result"
    }
   ],
   "source": [
    "X_train = [[a,b,c,d,e,f,g,h] for a,b,c,d,e,f,g,h in zip(x1,y1,x2,y2,px1,py1,px2,py2)]\n",
    "len(X_train)"
   ]
  },
  {
   "cell_type": "code",
   "execution_count": 160,
   "metadata": {},
   "outputs": [],
   "source": [
    "os.remove(\"X_train.txt\")\n",
    "f = open(\"X_train.txt\", \"a\")\n",
    "for i in X_train:\n",
    "    for j in i:\n",
    "        f.write(str(j))\n",
    "        f.write(\"\\n\")\n",
    "f.close()"
   ]
  },
  {
   "cell_type": "code",
   "execution_count": null,
   "metadata": {},
   "outputs": [],
   "source": []
  }
 ],
 "metadata": {
  "kernelspec": {
   "display_name": "Python 3",
   "language": "python",
   "name": "python3"
  },
  "language_info": {
   "codemirror_mode": {
    "name": "ipython",
    "version": 3
   },
   "file_extension": ".py",
   "mimetype": "text/x-python",
   "name": "python",
   "nbconvert_exporter": "python",
   "pygments_lexer": "ipython3",
   "version": "3.7.4"
  }
 },
 "nbformat": 4,
 "nbformat_minor": 4
}
