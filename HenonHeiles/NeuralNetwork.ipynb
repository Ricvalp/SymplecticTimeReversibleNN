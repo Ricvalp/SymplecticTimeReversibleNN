{
 "cells": [
  {
   "cell_type": "code",
   "execution_count": null,
   "id": "a4046669-cde0-44d7-8551-41f06c1ac0f2",
   "metadata": {},
   "outputs": [],
   "source": [
    "import tensorflow as tf\n",
    "\n",
    "import matplotlib.pyplot as plt\n",
    "import numpy as np\n",
    "from tensorflow import keras\n",
    "import os\n",
    "import sys\n",
    "import random as rd\n",
    "\n",
    "sys.path.append(\"..\")\n",
    "\n",
    "from AllMethods import HenonHeiles_Methods as hh"
   ]
  },
  {
   "cell_type": "code",
   "execution_count": null,
   "id": "26a39748-93c8-4603-9f16-f1ca9ad909e1",
   "metadata": {},
   "outputs": [],
   "source": [
    "import tensorflow as tf"
   ]
  },
  {
   "cell_type": "code",
   "execution_count": null,
   "id": "cb85b49a-ed9d-4062-a799-f6c1d37ebf6f",
   "metadata": {},
   "outputs": [],
   "source": []
  }
 ],
 "metadata": {
  "kernelspec": {
   "display_name": "Python 3",
   "language": "python",
   "name": "python3"
  },
  "language_info": {
   "codemirror_mode": {
    "name": "ipython",
    "version": 3
   },
   "file_extension": ".py",
   "mimetype": "text/x-python",
   "name": "python",
   "nbconvert_exporter": "python",
   "pygments_lexer": "ipython3",
   "version": "3.8.8"
  }
 },
 "nbformat": 4,
 "nbformat_minor": 5
}
